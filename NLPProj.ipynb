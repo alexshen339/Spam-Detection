{
  "nbformat": 4,
  "nbformat_minor": 0,
  "metadata": {
    "colab": {
      "provenance": []
    },
    "kernelspec": {
      "name": "python3",
      "display_name": "Python 3"
    },
    "language_info": {
      "name": "python"
    }
  },
  "cells": [
    {
      "cell_type": "markdown",
      "source": [
        "https://www.kaggle.com/datasets/uciml/sms-spam-collection-dataset?resource=download "
      ],
      "metadata": {
        "id": "C-gL1QEvRpb1"
      }
    },
    {
      "cell_type": "code",
      "execution_count": null,
      "metadata": {
        "id": "lc0ux3YTZcoe"
      },
      "outputs": [],
      "source": [
        "# !pip install flair\n",
        "# from flair.data import Sentence\n",
        "# from flair.nn import Classifier\n",
        "\n",
        "# # make a sentence\n",
        "# sentence = Sentence('I love Berlin .')\n",
        "\n",
        "# # load the NER tagger\n",
        "# tagger = Classifier.load('ner')\n",
        "\n",
        "# # run NER over sentence\n",
        "# tagger.predict(sentence)\n",
        "\n",
        "# # print the sentence with all annotations\n",
        "# print(sentence)"
      ]
    },
    {
      "cell_type": "code",
      "source": [],
      "metadata": {
        "id": "1k-2PzUv_JoX"
      },
      "execution_count": null,
      "outputs": []
    },
    {
      "cell_type": "code",
      "source": [
        "# # make a sentence\n",
        "# sentence = Sentence('The service was decent')\n",
        "\n",
        "# # load the NER tagger\n",
        "# tagger = Classifier.load('sentiment')\n",
        "\n",
        "# # run NER over sentence\n",
        "# tagger.predict(sentence)\n",
        "\n",
        "# # print the sentence with all annotations\n",
        "# print(sentence)"
      ],
      "metadata": {
        "id": "RaHcHLQCbfNq"
      },
      "execution_count": null,
      "outputs": []
    },
    {
      "cell_type": "code",
      "source": [
        "# sentence = Sentence(\"Berlin is a strange place\")\n",
        "# tagger.predict(sentence)\n",
        "# print(sentence)"
      ],
      "metadata": {
        "id": "u6WR2j_Dbrgt"
      },
      "execution_count": null,
      "outputs": []
    },
    {
      "cell_type": "code",
      "source": [
        "#!pip install --upgrade tensorflow"
      ],
      "metadata": {
        "id": "tdv3xyI9PzSG"
      },
      "execution_count": null,
      "outputs": []
    },
    {
      "cell_type": "code",
      "source": [
        "import pandas as pd\n",
        "#Importing necessary libraries for EDA\n",
        "import numpy as np\n",
        "import pandas as pd\n",
        "import matplotlib.pyplot as plt\n",
        "import seaborn as sns\n",
        "\n",
        "import string\n",
        "import nltk\n",
        "from nltk.corpus import stopwords\n",
        "from wordcloud import WordCloud\n",
        "nltk.download('stopwords')\n",
        "\n",
        "#Importing libraries necessary for Model Building and Training\n",
        "\n",
        "import tensorflow as tf\n",
        "from tensorflow.keras.preprocessing.text import Tokenizer\n",
        "from tensorflow.keras.preprocessing.sequence import pad_sequences\n",
        "from sklearn.model_selection import train_test_split\n",
        "\n",
        "\n",
        "import warnings\n",
        "warnings.filterwarnings('ignore')\n",
        "\n",
        "# reading csv files\n",
        "data =  pd.read_csv('spam.csv',encoding='ISO-8859-1')\n",
        "print(data.columns)\n",
        "data = data[[\"v1\", \"v2\"]]\n",
        "data = data.rename(columns={\"v1\": \"spam_flg\", \"v2\": \"text\"})"
      ],
      "metadata": {
        "colab": {
          "base_uri": "https://localhost:8080/"
        },
        "id": "HEHoVA63_L16",
        "outputId": "69236082-b7a8-4d39-b0ec-cae19ac6eb1e"
      },
      "execution_count": null,
      "outputs": [
        {
          "output_type": "stream",
          "name": "stdout",
          "text": [
            "Index(['v1', 'v2', 'Unnamed: 2', 'Unnamed: 3', 'Unnamed: 4'], dtype='object')\n"
          ]
        },
        {
          "output_type": "stream",
          "name": "stderr",
          "text": [
            "[nltk_data] Downloading package stopwords to /root/nltk_data...\n",
            "[nltk_data]   Package stopwords is already up-to-date!\n"
          ]
        }
      ]
    },
    {
      "cell_type": "code",
      "source": [
        "data.loc[data[\"spam_flg\"]==\"ham\",\"spam_flg\"]=0\n",
        "data.loc[data[\"spam_flg\"]==\"spam\",\"spam_flg\"]=1\n",
        "\n",
        "print(len(data))\n",
        "print(len(data[data[\"spam_flg\"]==1]))\n",
        "#possibly play with downsampling\n",
        "not_spam = data[data[\"spam_flg\"] == 0]\n",
        "spam = data[data[\"spam_flg\"] == 1]\n",
        "#not_spam = not_spam.sample(n = len(spam), random_state=42)\n",
        "\n",
        "# Plotting the counts of down sampled dataset\n",
        "data = not_spam.append(spam).reset_index(drop = True)\n",
        "\n",
        "print(len(data))\n",
        "print(len(data[data[\"spam_flg\"]==1]))\n",
        "\n",
        "#THIS GRAPH IS BLATANTLY LYING SEABORN SUCKS\n",
        "# plt.figure(figsize = (8, 6))\n",
        "# sns.countplot(data.spam_flg)\n",
        "# plt.title('Distribution of Ham and Spam email messages after downsampling')\n",
        "# plt.xlabel('Message types')\n",
        "\n",
        "#num_spaces_arr = data[\"text\"].count(\" \")\n",
        "# print(data[\"text\"].astype(str))\n",
        "# num_spaces_arr = np.char.count(data[\"text\"].astype(str), sub ='a')\n",
        "# max_spaces = 0\n",
        "#I'm an idiot with numpy theres got to be a way\n",
        "# for t in data[\"text\"]:\n",
        "#   spaces = t.count(\" \")\n",
        "#   if spaces >max_spaces:\n",
        "#     max_spaces = spaces\n",
        "# max_words = max_spaces+1\n",
        "# print(max_words)\n",
        "max_words = 10000"
      ],
      "metadata": {
        "colab": {
          "base_uri": "https://localhost:8080/"
        },
        "id": "K6X_WYWnB_fN",
        "outputId": "899919b9-b66d-4053-8eed-336c93fb67be"
      },
      "execution_count": null,
      "outputs": [
        {
          "output_type": "stream",
          "name": "stdout",
          "text": [
            "5572\n",
            "747\n",
            "5572\n",
            "747\n"
          ]
        }
      ]
    },
    {
      "cell_type": "code",
      "source": [
        "data[1000:1005]"
      ],
      "metadata": {
        "colab": {
          "base_uri": "https://localhost:8080/",
          "height": 206
        },
        "id": "Wjyz7nKZY6dN",
        "outputId": "7ebd8b84-a5f7-4836-df5f-3d31391d5404"
      },
      "execution_count": null,
      "outputs": [
        {
          "output_type": "execute_result",
          "data": {
            "text/plain": [
              "     spam_flg                                               text\n",
              "1000        0                To day class is there are no class.\n",
              "1001        0                         I'm in chennai velachery:)\n",
              "1002        0                         You flippin your shit yet?\n",
              "1003        0  K give me a sec, breaking a  &lt;#&gt;  at cstore\n",
              "1004        0             Am i that much bad to avoid like this?"
            ],
            "text/html": [
              "\n",
              "  <div id=\"df-3acdb4d0-8c39-404d-bc6f-06d911a14590\">\n",
              "    <div class=\"colab-df-container\">\n",
              "      <div>\n",
              "<style scoped>\n",
              "    .dataframe tbody tr th:only-of-type {\n",
              "        vertical-align: middle;\n",
              "    }\n",
              "\n",
              "    .dataframe tbody tr th {\n",
              "        vertical-align: top;\n",
              "    }\n",
              "\n",
              "    .dataframe thead th {\n",
              "        text-align: right;\n",
              "    }\n",
              "</style>\n",
              "<table border=\"1\" class=\"dataframe\">\n",
              "  <thead>\n",
              "    <tr style=\"text-align: right;\">\n",
              "      <th></th>\n",
              "      <th>spam_flg</th>\n",
              "      <th>text</th>\n",
              "    </tr>\n",
              "  </thead>\n",
              "  <tbody>\n",
              "    <tr>\n",
              "      <th>1000</th>\n",
              "      <td>0</td>\n",
              "      <td>To day class is there are no class.</td>\n",
              "    </tr>\n",
              "    <tr>\n",
              "      <th>1001</th>\n",
              "      <td>0</td>\n",
              "      <td>I'm in chennai velachery:)</td>\n",
              "    </tr>\n",
              "    <tr>\n",
              "      <th>1002</th>\n",
              "      <td>0</td>\n",
              "      <td>You flippin your shit yet?</td>\n",
              "    </tr>\n",
              "    <tr>\n",
              "      <th>1003</th>\n",
              "      <td>0</td>\n",
              "      <td>K give me a sec, breaking a  &amp;lt;#&amp;gt;  at cstore</td>\n",
              "    </tr>\n",
              "    <tr>\n",
              "      <th>1004</th>\n",
              "      <td>0</td>\n",
              "      <td>Am i that much bad to avoid like this?</td>\n",
              "    </tr>\n",
              "  </tbody>\n",
              "</table>\n",
              "</div>\n",
              "      <button class=\"colab-df-convert\" onclick=\"convertToInteractive('df-3acdb4d0-8c39-404d-bc6f-06d911a14590')\"\n",
              "              title=\"Convert this dataframe to an interactive table.\"\n",
              "              style=\"display:none;\">\n",
              "        \n",
              "  <svg xmlns=\"http://www.w3.org/2000/svg\" height=\"24px\"viewBox=\"0 0 24 24\"\n",
              "       width=\"24px\">\n",
              "    <path d=\"M0 0h24v24H0V0z\" fill=\"none\"/>\n",
              "    <path d=\"M18.56 5.44l.94 2.06.94-2.06 2.06-.94-2.06-.94-.94-2.06-.94 2.06-2.06.94zm-11 1L8.5 8.5l.94-2.06 2.06-.94-2.06-.94L8.5 2.5l-.94 2.06-2.06.94zm10 10l.94 2.06.94-2.06 2.06-.94-2.06-.94-.94-2.06-.94 2.06-2.06.94z\"/><path d=\"M17.41 7.96l-1.37-1.37c-.4-.4-.92-.59-1.43-.59-.52 0-1.04.2-1.43.59L10.3 9.45l-7.72 7.72c-.78.78-.78 2.05 0 2.83L4 21.41c.39.39.9.59 1.41.59.51 0 1.02-.2 1.41-.59l7.78-7.78 2.81-2.81c.8-.78.8-2.07 0-2.86zM5.41 20L4 18.59l7.72-7.72 1.47 1.35L5.41 20z\"/>\n",
              "  </svg>\n",
              "      </button>\n",
              "      \n",
              "  <style>\n",
              "    .colab-df-container {\n",
              "      display:flex;\n",
              "      flex-wrap:wrap;\n",
              "      gap: 12px;\n",
              "    }\n",
              "\n",
              "    .colab-df-convert {\n",
              "      background-color: #E8F0FE;\n",
              "      border: none;\n",
              "      border-radius: 50%;\n",
              "      cursor: pointer;\n",
              "      display: none;\n",
              "      fill: #1967D2;\n",
              "      height: 32px;\n",
              "      padding: 0 0 0 0;\n",
              "      width: 32px;\n",
              "    }\n",
              "\n",
              "    .colab-df-convert:hover {\n",
              "      background-color: #E2EBFA;\n",
              "      box-shadow: 0px 1px 2px rgba(60, 64, 67, 0.3), 0px 1px 3px 1px rgba(60, 64, 67, 0.15);\n",
              "      fill: #174EA6;\n",
              "    }\n",
              "\n",
              "    [theme=dark] .colab-df-convert {\n",
              "      background-color: #3B4455;\n",
              "      fill: #D2E3FC;\n",
              "    }\n",
              "\n",
              "    [theme=dark] .colab-df-convert:hover {\n",
              "      background-color: #434B5C;\n",
              "      box-shadow: 0px 1px 3px 1px rgba(0, 0, 0, 0.15);\n",
              "      filter: drop-shadow(0px 1px 2px rgba(0, 0, 0, 0.3));\n",
              "      fill: #FFFFFF;\n",
              "    }\n",
              "  </style>\n",
              "\n",
              "      <script>\n",
              "        const buttonEl =\n",
              "          document.querySelector('#df-3acdb4d0-8c39-404d-bc6f-06d911a14590 button.colab-df-convert');\n",
              "        buttonEl.style.display =\n",
              "          google.colab.kernel.accessAllowed ? 'block' : 'none';\n",
              "\n",
              "        async function convertToInteractive(key) {\n",
              "          const element = document.querySelector('#df-3acdb4d0-8c39-404d-bc6f-06d911a14590');\n",
              "          const dataTable =\n",
              "            await google.colab.kernel.invokeFunction('convertToInteractive',\n",
              "                                                     [key], {});\n",
              "          if (!dataTable) return;\n",
              "\n",
              "          const docLinkHtml = 'Like what you see? Visit the ' +\n",
              "            '<a target=\"_blank\" href=https://colab.research.google.com/notebooks/data_table.ipynb>data table notebook</a>'\n",
              "            + ' to learn more about interactive tables.';\n",
              "          element.innerHTML = '';\n",
              "          dataTable['output_type'] = 'display_data';\n",
              "          await google.colab.output.renderOutput(dataTable, element);\n",
              "          const docLink = document.createElement('div');\n",
              "          docLink.innerHTML = docLinkHtml;\n",
              "          element.appendChild(docLink);\n",
              "        }\n",
              "      </script>\n",
              "    </div>\n",
              "  </div>\n",
              "  "
            ]
          },
          "metadata": {},
          "execution_count": 53
        }
      ]
    },
    {
      "cell_type": "code",
      "source": [],
      "metadata": {
        "id": "uvIoKGybIW-c"
      },
      "execution_count": null,
      "outputs": []
    },
    {
      "cell_type": "code",
      "source": [
        "punctuations_list = string.punctuation\n",
        "def remove_punctuations(text):\n",
        "    temp = str.maketrans('', '', punctuations_list)\n",
        "    return text.translate(temp)\n",
        " \n",
        "data['text']= data['text'].apply(lambda x: remove_punctuations(x))\n",
        "\n",
        "def remove_stopwords(text):\n",
        "    stop_words = stopwords.words('english')\n",
        " \n",
        "    imp_words = []\n",
        " \n",
        "    # Storing the important words\n",
        "    for word in str(text).split():\n",
        "        word = word.lower()\n",
        " \n",
        "        if word not in stop_words:\n",
        "            imp_words.append(word)\n",
        " \n",
        "    output = \" \".join(imp_words)\n",
        " \n",
        "    return output\n",
        " \n",
        " \n",
        "data['text'] = data['text'].apply(lambda text: remove_stopwords(text))\n",
        "data.head()\n"
      ],
      "metadata": {
        "colab": {
          "base_uri": "https://localhost:8080/",
          "height": 206
        },
        "id": "XJB88CubEuYB",
        "outputId": "b31775c0-98ff-4f52-e13e-6a42da0b64c0"
      },
      "execution_count": null,
      "outputs": [
        {
          "output_type": "execute_result",
          "data": {
            "text/plain": [
              "  spam_flg                                               text\n",
              "0        0  go jurong point crazy available bugis n great ...\n",
              "1        0                            ok lar joking wif u oni\n",
              "2        0                u dun say early hor u c already say\n",
              "3        0        nah dont think goes usf lives around though\n",
              "4        0     even brother like speak treat like aids patent"
            ],
            "text/html": [
              "\n",
              "  <div id=\"df-820a9a71-d85e-4741-a8c6-a1a24f02a829\">\n",
              "    <div class=\"colab-df-container\">\n",
              "      <div>\n",
              "<style scoped>\n",
              "    .dataframe tbody tr th:only-of-type {\n",
              "        vertical-align: middle;\n",
              "    }\n",
              "\n",
              "    .dataframe tbody tr th {\n",
              "        vertical-align: top;\n",
              "    }\n",
              "\n",
              "    .dataframe thead th {\n",
              "        text-align: right;\n",
              "    }\n",
              "</style>\n",
              "<table border=\"1\" class=\"dataframe\">\n",
              "  <thead>\n",
              "    <tr style=\"text-align: right;\">\n",
              "      <th></th>\n",
              "      <th>spam_flg</th>\n",
              "      <th>text</th>\n",
              "    </tr>\n",
              "  </thead>\n",
              "  <tbody>\n",
              "    <tr>\n",
              "      <th>0</th>\n",
              "      <td>0</td>\n",
              "      <td>go jurong point crazy available bugis n great ...</td>\n",
              "    </tr>\n",
              "    <tr>\n",
              "      <th>1</th>\n",
              "      <td>0</td>\n",
              "      <td>ok lar joking wif u oni</td>\n",
              "    </tr>\n",
              "    <tr>\n",
              "      <th>2</th>\n",
              "      <td>0</td>\n",
              "      <td>u dun say early hor u c already say</td>\n",
              "    </tr>\n",
              "    <tr>\n",
              "      <th>3</th>\n",
              "      <td>0</td>\n",
              "      <td>nah dont think goes usf lives around though</td>\n",
              "    </tr>\n",
              "    <tr>\n",
              "      <th>4</th>\n",
              "      <td>0</td>\n",
              "      <td>even brother like speak treat like aids patent</td>\n",
              "    </tr>\n",
              "  </tbody>\n",
              "</table>\n",
              "</div>\n",
              "      <button class=\"colab-df-convert\" onclick=\"convertToInteractive('df-820a9a71-d85e-4741-a8c6-a1a24f02a829')\"\n",
              "              title=\"Convert this dataframe to an interactive table.\"\n",
              "              style=\"display:none;\">\n",
              "        \n",
              "  <svg xmlns=\"http://www.w3.org/2000/svg\" height=\"24px\"viewBox=\"0 0 24 24\"\n",
              "       width=\"24px\">\n",
              "    <path d=\"M0 0h24v24H0V0z\" fill=\"none\"/>\n",
              "    <path d=\"M18.56 5.44l.94 2.06.94-2.06 2.06-.94-2.06-.94-.94-2.06-.94 2.06-2.06.94zm-11 1L8.5 8.5l.94-2.06 2.06-.94-2.06-.94L8.5 2.5l-.94 2.06-2.06.94zm10 10l.94 2.06.94-2.06 2.06-.94-2.06-.94-.94-2.06-.94 2.06-2.06.94z\"/><path d=\"M17.41 7.96l-1.37-1.37c-.4-.4-.92-.59-1.43-.59-.52 0-1.04.2-1.43.59L10.3 9.45l-7.72 7.72c-.78.78-.78 2.05 0 2.83L4 21.41c.39.39.9.59 1.41.59.51 0 1.02-.2 1.41-.59l7.78-7.78 2.81-2.81c.8-.78.8-2.07 0-2.86zM5.41 20L4 18.59l7.72-7.72 1.47 1.35L5.41 20z\"/>\n",
              "  </svg>\n",
              "      </button>\n",
              "      \n",
              "  <style>\n",
              "    .colab-df-container {\n",
              "      display:flex;\n",
              "      flex-wrap:wrap;\n",
              "      gap: 12px;\n",
              "    }\n",
              "\n",
              "    .colab-df-convert {\n",
              "      background-color: #E8F0FE;\n",
              "      border: none;\n",
              "      border-radius: 50%;\n",
              "      cursor: pointer;\n",
              "      display: none;\n",
              "      fill: #1967D2;\n",
              "      height: 32px;\n",
              "      padding: 0 0 0 0;\n",
              "      width: 32px;\n",
              "    }\n",
              "\n",
              "    .colab-df-convert:hover {\n",
              "      background-color: #E2EBFA;\n",
              "      box-shadow: 0px 1px 2px rgba(60, 64, 67, 0.3), 0px 1px 3px 1px rgba(60, 64, 67, 0.15);\n",
              "      fill: #174EA6;\n",
              "    }\n",
              "\n",
              "    [theme=dark] .colab-df-convert {\n",
              "      background-color: #3B4455;\n",
              "      fill: #D2E3FC;\n",
              "    }\n",
              "\n",
              "    [theme=dark] .colab-df-convert:hover {\n",
              "      background-color: #434B5C;\n",
              "      box-shadow: 0px 1px 3px 1px rgba(0, 0, 0, 0.15);\n",
              "      filter: drop-shadow(0px 1px 2px rgba(0, 0, 0, 0.3));\n",
              "      fill: #FFFFFF;\n",
              "    }\n",
              "  </style>\n",
              "\n",
              "      <script>\n",
              "        const buttonEl =\n",
              "          document.querySelector('#df-820a9a71-d85e-4741-a8c6-a1a24f02a829 button.colab-df-convert');\n",
              "        buttonEl.style.display =\n",
              "          google.colab.kernel.accessAllowed ? 'block' : 'none';\n",
              "\n",
              "        async function convertToInteractive(key) {\n",
              "          const element = document.querySelector('#df-820a9a71-d85e-4741-a8c6-a1a24f02a829');\n",
              "          const dataTable =\n",
              "            await google.colab.kernel.invokeFunction('convertToInteractive',\n",
              "                                                     [key], {});\n",
              "          if (!dataTable) return;\n",
              "\n",
              "          const docLinkHtml = 'Like what you see? Visit the ' +\n",
              "            '<a target=\"_blank\" href=https://colab.research.google.com/notebooks/data_table.ipynb>data table notebook</a>'\n",
              "            + ' to learn more about interactive tables.';\n",
              "          element.innerHTML = '';\n",
              "          dataTable['output_type'] = 'display_data';\n",
              "          await google.colab.output.renderOutput(dataTable, element);\n",
              "          const docLink = document.createElement('div');\n",
              "          docLink.innerHTML = docLinkHtml;\n",
              "          element.appendChild(docLink);\n",
              "        }\n",
              "      </script>\n",
              "    </div>\n",
              "  </div>\n",
              "  "
            ]
          },
          "metadata": {},
          "execution_count": 54
        }
      ]
    },
    {
      "cell_type": "code",
      "source": [
        "\n",
        "def plot_word_cloud(data, typ):\n",
        "    email_corpus = \" \".join(data['text'])\n",
        "    plt.figure(figsize=(10, 10))\n",
        "    wc = WordCloud(background_color='white',\n",
        "                   max_words=100,\n",
        "                   width=200,\n",
        "                   height=100,\n",
        "                   collocations=False).generate(email_corpus)\n",
        " \n",
        "    plt.title(f'WordCloud for {typ} texts.', fontsize=15)\n",
        "    plt.axis('off')\n",
        "    plt.imshow(wc)\n",
        "    plt.show()\n",
        "    print()\n",
        " \n",
        " \n",
        "plot_word_cloud(data[data['spam_flg'] == 0], typ='Non - Spam')\n",
        "plot_word_cloud(data[data['spam_flg'] == 1], typ='Spam')"
      ],
      "metadata": {
        "colab": {
          "base_uri": "https://localhost:8080/",
          "height": 914
        },
        "id": "dnR9A5YVFFK8",
        "outputId": "c7963d59-e942-4c62-d599-1494432de16d"
      },
      "execution_count": null,
      "outputs": [
        {
          "output_type": "display_data",
          "data": {
            "text/plain": [
              "<Figure size 1000x1000 with 1 Axes>"
            ],
            "image/png": "[encoded data removed]"
          },
          "metadata": {}
        },
        {
          "output_type": "stream",
          "name": "stdout",
          "text": [
            "\n"
          ]
        },
        {
          "output_type": "display_data",
          "data": {
            "text/plain": [
              "<Figure size 1000x1000 with 1 Axes>"
            ],
            "image/png": "[encoded data removed]"
          },
          "metadata": {}
        },
        {
          "output_type": "stream",
          "name": "stdout",
          "text": [
            "\n"
          ]
        }
      ]
    },
    {
      "cell_type": "code",
      "source": [
        "\n",
        "#train test split\n",
        "train_X, test_X, train_Y, test_Y = train_test_split(data['text'],\n",
        "                                                    data['spam_flg'],\n",
        "                                                    test_size = 0.33,\n",
        "                                                    random_state = 2)\n"
      ],
      "metadata": {
        "id": "99kkRcobFoQC"
      },
      "execution_count": null,
      "outputs": []
    },
    {
      "cell_type": "code",
      "source": [
        "# training the tokenizer\n",
        "token=Tokenizer()\n",
        "token.fit_on_texts(train_X)\n",
        " \n",
        "#Generating token embeddings\n",
        "Training_seq = token.texts_to_sequences(train_X)\n",
        "Training_pad = pad_sequences(Training_seq,\n",
        "                             maxlen = 50,\n",
        "                             padding = 'post',\n",
        "                             truncating = 'post')\n",
        " \n",
        "Testing_seq = token.texts_to_sequences(test_X)\n",
        "Testing_pad = pad_sequences(Testing_seq,\n",
        "                            maxlen = 50,\n",
        "                            padding = 'post',\n",
        "                            truncating = 'post')"
      ],
      "metadata": {
        "id": "Vjnr6ia5F9tm"
      },
      "execution_count": null,
      "outputs": []
    },
    {
      "cell_type": "code",
      "source": [
        "# Max words defined earlier, not sure what it does exactly. Seems like it cant be too small\n",
        "# Building the Model\n",
        "model = tf.keras.models.Sequential()\n",
        "model.add(tf.keras.layers.Embedding(max_words, 32,\n",
        "                                    input_length=50))\n",
        "model.add(tf.keras.layers.LSTM(4))\n",
        "model.add(tf.keras.layers.Dense(32, activation='relu'))\n",
        "model.add(tf.keras.layers.Dense(1, activation='sigmoid'))\n"
      ],
      "metadata": {
        "id": "LNMq5NCHGFFm"
      },
      "execution_count": null,
      "outputs": []
    },
    {
      "cell_type": "code",
      "source": [
        "\n",
        "model.compile(loss = tf.keras.losses.BinaryCrossentropy(from_logits = True),\n",
        "              metrics = ['accuracy'],\n",
        "              optimizer = 'adam')"
      ],
      "metadata": {
        "id": "UnZhk5OgKcqA"
      },
      "execution_count": null,
      "outputs": []
    },
    {
      "cell_type": "code",
      "source": [
        "from keras.callbacks import EarlyStopping, ReduceLROnPlateau\n",
        " \n",
        "##IMPORTANT HYPERPARAMETERS PATIENCE\n",
        "#Governs number of epochs, too soon seems underfitting, too long overfitting\n",
        "es = EarlyStopping(patience= 20,\n",
        "                   monitor = 'val_accuracy',\n",
        "                   restore_best_weights = True)\n",
        " \n",
        "lr = ReduceLROnPlateau(patience = 20,\n",
        "                       monitor = 'val_loss',\n",
        "                       factor = 0.5,\n",
        "                       verbose = 0)"
      ],
      "metadata": {
        "id": "lobSHPwUKfWZ"
      },
      "execution_count": null,
      "outputs": []
    },
    {
      "cell_type": "code",
      "source": [],
      "metadata": {
        "id": "eHxBQZhzMR1q"
      },
      "execution_count": null,
      "outputs": []
    },
    {
      "cell_type": "code",
      "source": [
        "# history = model.fit(Training_pad.astype(float), train_Y.astype(float),\n",
        "#                     validation_data = (Testing_pad.astype(float), test_Y.astype(float)),\n",
        "#                     epochs = 30,\n",
        "#                     verbose = 1,\n",
        "#                     batch_size = 32,\n",
        "#                     callbacks = [lr, es])"
      ],
      "metadata": {
        "id": "qIkZ82_KKi9p"
      },
      "execution_count": null,
      "outputs": []
    },
    {
      "cell_type": "code",
      "source": [
        "#Epochs hyperparameter can tune model\n",
        "history = model.fit(Training_pad.astype('float32'), train_Y.astype('float32'),\n",
        "                    validation_data = (Testing_pad.astype('float32'), test_Y.astype('float32')),\n",
        "                    epochs = 40,\n",
        "                    verbose = 1,\n",
        "                    batch_size = 32,\n",
        "                    callbacks = [lr, es])"
      ],
      "metadata": {
        "colab": {
          "base_uri": "https://localhost:8080/"
        },
        "id": "QHSGjuGANgEp",
        "outputId": "542b62ab-e4e5-48f2-fd62-432bf605f7e2"
      },
      "execution_count": null,
      "outputs": [
        {
          "output_type": "stream",
          "name": "stdout",
          "text": [
            "Epoch 1/40\n",
            "117/117 [==============================] - 7s 37ms/step - loss: 0.4963 - accuracy: 0.8690 - val_loss: 0.4069 - val_accuracy: 0.8597 - lr: 0.0010\n",
            "Epoch 2/40\n",
            "117/117 [==============================] - 5s 39ms/step - loss: 0.3889 - accuracy: 0.8690 - val_loss: 0.4065 - val_accuracy: 0.8597 - lr: 0.0010\n",
            "Epoch 3/40\n",
            "117/117 [==============================] - 4s 30ms/step - loss: 0.3888 - accuracy: 0.8690 - val_loss: 0.4067 - val_accuracy: 0.8597 - lr: 0.0010\n",
            "Epoch 4/40\n",
            "117/117 [==============================] - 4s 30ms/step - loss: 0.3886 - accuracy: 0.8690 - val_loss: 0.4057 - val_accuracy: 0.8597 - lr: 0.0010\n",
            "Epoch 5/40\n",
            "117/117 [==============================] - 5s 39ms/step - loss: 0.3885 - accuracy: 0.8690 - val_loss: 0.4054 - val_accuracy: 0.8597 - lr: 0.0010\n",
            "Epoch 6/40\n",
            "117/117 [==============================] - 4s 31ms/step - loss: 0.3884 - accuracy: 0.8690 - val_loss: 0.4046 - val_accuracy: 0.8597 - lr: 0.0010\n",
            "Epoch 7/40\n",
            "117/117 [==============================] - 4s 30ms/step - loss: 0.2986 - accuracy: 0.8904 - val_loss: 0.1369 - val_accuracy: 0.9739 - lr: 0.0010\n",
            "Epoch 8/40\n",
            "117/117 [==============================] - 4s 32ms/step - loss: 0.0806 - accuracy: 0.9834 - val_loss: 0.1134 - val_accuracy: 0.9695 - lr: 0.0010\n",
            "Epoch 9/40\n",
            "117/117 [==============================] - 4s 36ms/step - loss: 0.0566 - accuracy: 0.9896 - val_loss: 0.1211 - val_accuracy: 0.9706 - lr: 0.0010\n",
            "Epoch 10/40\n",
            "117/117 [==============================] - 4s 30ms/step - loss: 0.0468 - accuracy: 0.9904 - val_loss: 0.1097 - val_accuracy: 0.9755 - lr: 0.0010\n",
            "Epoch 11/40\n",
            "117/117 [==============================] - 4s 30ms/step - loss: 0.0360 - accuracy: 0.9933 - val_loss: 0.1140 - val_accuracy: 0.9755 - lr: 0.0010\n",
            "Epoch 12/40\n",
            "117/117 [==============================] - 5s 39ms/step - loss: 0.0333 - accuracy: 0.9938 - val_loss: 0.1187 - val_accuracy: 0.9750 - lr: 0.0010\n",
            "Epoch 13/40\n",
            "117/117 [==============================] - 4s 30ms/step - loss: 0.0316 - accuracy: 0.9941 - val_loss: 0.1205 - val_accuracy: 0.9750 - lr: 0.0010\n",
            "Epoch 14/40\n",
            "117/117 [==============================] - 4s 30ms/step - loss: 0.0306 - accuracy: 0.9944 - val_loss: 0.1178 - val_accuracy: 0.9761 - lr: 0.0010\n",
            "Epoch 15/40\n",
            "117/117 [==============================] - 4s 37ms/step - loss: 0.0296 - accuracy: 0.9946 - val_loss: 0.1229 - val_accuracy: 0.9750 - lr: 0.0010\n",
            "Epoch 16/40\n",
            "117/117 [==============================] - 4s 32ms/step - loss: 0.0287 - accuracy: 0.9949 - val_loss: 0.1193 - val_accuracy: 0.9761 - lr: 0.0010\n",
            "Epoch 17/40\n",
            "117/117 [==============================] - 4s 33ms/step - loss: 0.0276 - accuracy: 0.9952 - val_loss: 0.1247 - val_accuracy: 0.9750 - lr: 0.0010\n",
            "Epoch 18/40\n",
            "117/117 [==============================] - 4s 34ms/step - loss: 0.0277 - accuracy: 0.9952 - val_loss: 0.1254 - val_accuracy: 0.9750 - lr: 0.0010\n",
            "Epoch 19/40\n",
            "117/117 [==============================] - 4s 35ms/step - loss: 0.0260 - accuracy: 0.9954 - val_loss: 0.1264 - val_accuracy: 0.9750 - lr: 0.0010\n",
            "Epoch 20/40\n",
            "117/117 [==============================] - 4s 33ms/step - loss: 0.0260 - accuracy: 0.9954 - val_loss: 0.1236 - val_accuracy: 0.9755 - lr: 0.0010\n",
            "Epoch 21/40\n",
            "117/117 [==============================] - 4s 31ms/step - loss: 0.0260 - accuracy: 0.9954 - val_loss: 0.1264 - val_accuracy: 0.9750 - lr: 0.0010\n",
            "Epoch 22/40\n",
            "117/117 [==============================] - 5s 39ms/step - loss: 0.0261 - accuracy: 0.9954 - val_loss: 0.1220 - val_accuracy: 0.9761 - lr: 0.0010\n",
            "Epoch 23/40\n",
            "117/117 [==============================] - 4s 33ms/step - loss: 0.0261 - accuracy: 0.9954 - val_loss: 0.1209 - val_accuracy: 0.9766 - lr: 0.0010\n",
            "Epoch 24/40\n",
            "117/117 [==============================] - 5s 40ms/step - loss: 0.0260 - accuracy: 0.9954 - val_loss: 0.1259 - val_accuracy: 0.9755 - lr: 0.0010\n",
            "Epoch 25/40\n",
            "117/117 [==============================] - 5s 39ms/step - loss: 0.0260 - accuracy: 0.9954 - val_loss: 0.1212 - val_accuracy: 0.9766 - lr: 0.0010\n",
            "Epoch 26/40\n",
            "117/117 [==============================] - 4s 39ms/step - loss: 0.0239 - accuracy: 0.9960 - val_loss: 0.1237 - val_accuracy: 0.9766 - lr: 0.0010\n",
            "Epoch 27/40\n",
            "117/117 [==============================] - 5s 41ms/step - loss: 0.0217 - accuracy: 0.9965 - val_loss: 0.1245 - val_accuracy: 0.9766 - lr: 0.0010\n",
            "Epoch 28/40\n",
            "117/117 [==============================] - 5s 39ms/step - loss: 0.0206 - accuracy: 0.9968 - val_loss: 0.1209 - val_accuracy: 0.9777 - lr: 0.0010\n",
            "Epoch 29/40\n",
            "117/117 [==============================] - 4s 30ms/step - loss: 0.0206 - accuracy: 0.9968 - val_loss: 0.1182 - val_accuracy: 0.9782 - lr: 0.0010\n",
            "Epoch 30/40\n",
            "117/117 [==============================] - 4s 33ms/step - loss: 0.0194 - accuracy: 0.9971 - val_loss: 0.1207 - val_accuracy: 0.9777 - lr: 0.0010\n",
            "Epoch 31/40\n",
            "117/117 [==============================] - 5s 42ms/step - loss: 0.0181 - accuracy: 0.9973 - val_loss: 0.1226 - val_accuracy: 0.9777 - lr: 5.0000e-04\n",
            "Epoch 32/40\n",
            "117/117 [==============================] - 5s 39ms/step - loss: 0.0180 - accuracy: 0.9973 - val_loss: 0.1232 - val_accuracy: 0.9777 - lr: 5.0000e-04\n",
            "Epoch 33/40\n",
            "117/117 [==============================] - 4s 34ms/step - loss: 0.0164 - accuracy: 0.9976 - val_loss: 0.1255 - val_accuracy: 0.9777 - lr: 5.0000e-04\n",
            "Epoch 34/40\n",
            "117/117 [==============================] - 5s 42ms/step - loss: 0.0133 - accuracy: 0.9981 - val_loss: 0.1260 - val_accuracy: 0.9777 - lr: 5.0000e-04\n",
            "Epoch 35/40\n",
            "117/117 [==============================] - 4s 31ms/step - loss: 0.0133 - accuracy: 0.9981 - val_loss: 0.1280 - val_accuracy: 0.9777 - lr: 5.0000e-04\n",
            "Epoch 36/40\n",
            "117/117 [==============================] - 4s 33ms/step - loss: 0.0132 - accuracy: 0.9981 - val_loss: 0.1295 - val_accuracy: 0.9777 - lr: 5.0000e-04\n",
            "Epoch 37/40\n",
            "117/117 [==============================] - 5s 39ms/step - loss: 0.0171 - accuracy: 0.9976 - val_loss: 0.1247 - val_accuracy: 0.9799 - lr: 5.0000e-04\n",
            "Epoch 38/40\n",
            "117/117 [==============================] - 4s 31ms/step - loss: 0.0158 - accuracy: 0.9979 - val_loss: 0.1296 - val_accuracy: 0.9788 - lr: 5.0000e-04\n",
            "Epoch 39/40\n",
            "117/117 [==============================] - 4s 30ms/step - loss: 0.0153 - accuracy: 0.9979 - val_loss: 0.1224 - val_accuracy: 0.9799 - lr: 5.0000e-04\n",
            "Epoch 40/40\n",
            "117/117 [==============================] - 4s 35ms/step - loss: 0.0105 - accuracy: 0.9987 - val_loss: 0.1287 - val_accuracy: 0.9799 - lr: 5.0000e-04\n"
          ]
        }
      ]
    },
    {
      "cell_type": "code",
      "source": [
        "model.evaluate(Testing_pad.astype('float32'), test_Y.astype('float32'))\n"
      ],
      "metadata": {
        "id": "gsFrq6W1lesL",
        "colab": {
          "base_uri": "https://localhost:8080/"
        },
        "outputId": "914b08ca-5421-4b7a-e79a-1201bf3dc5e6"
      },
      "execution_count": null,
      "outputs": [
        {
          "output_type": "stream",
          "name": "stdout",
          "text": [
            "58/58 [==============================] - 0s 6ms/step - loss: 0.1287 - accuracy: 0.9799\n"
          ]
        },
        {
          "output_type": "execute_result",
          "data": {
            "text/plain": [
              "[0.12867961823940277, 0.9798803925514221]"
            ]
          },
          "metadata": {},
          "execution_count": 63
        }
      ]
    },
    {
      "cell_type": "code",
      "source": [
        "\n",
        "len(data[data['spam_flg']==0])\n",
        "len(data)\n",
        "print(len(data[data['spam_flg']==0])/len(data))"
      ],
      "metadata": {
        "id": "iGVPzxVul_xg",
        "colab": {
          "base_uri": "https://localhost:8080/"
        },
        "outputId": "7549d397-cf5e-4215-ecf1-68230e6de70b"
      },
      "execution_count": null,
      "outputs": [
        {
          "output_type": "stream",
          "name": "stdout",
          "text": [
            "0.8659368269921034\n"
          ]
        }
      ]
    },
    {
      "cell_type": "code",
      "source": [
        "y_pred = model.predict(Testing_pad.astype('float32')) >.5\n",
        "np.unique(y_pred, return_counts=True)\n",
        "print(test_Y.shape)\n",
        "bools = y_pred.flatten()==test_Y\n",
        "np.unique(bools, return_counts=True)"
      ],
      "metadata": {
        "colab": {
          "base_uri": "https://localhost:8080/"
        },
        "id": "2vAc4w37etbz",
        "outputId": "dac952ee-5e3d-499e-c7bd-0d9e1847b01b"
      },
      "execution_count": null,
      "outputs": [
        {
          "output_type": "stream",
          "name": "stdout",
          "text": [
            "58/58 [==============================] - 1s 6ms/step\n",
            "(1839,)\n"
          ]
        },
        {
          "output_type": "execute_result",
          "data": {
            "text/plain": [
              "(array([False,  True]), array([  37, 1802]))"
            ]
          },
          "metadata": {},
          "execution_count": 65
        }
      ]
    },
    {
      "cell_type": "code",
      "source": [
        "from sklearn.metrics import confusion_matrix, ConfusionMatrixDisplay\n",
        "\n",
        "\n",
        "cm = confusion_matrix(test_Y.astype(bool), y_pred)\n",
        "disp = ConfusionMatrixDisplay(confusion_matrix=cm)\n",
        "disp.plot() "
      ],
      "metadata": {
        "colab": {
          "base_uri": "https://localhost:8080/",
          "height": 466
        },
        "id": "OnNlI2qVhgp5",
        "outputId": "70326225-35b6-48d3-e2a4-cca52445d8bc"
      },
      "execution_count": null,
      "outputs": [
        {
          "output_type": "execute_result",
          "data": {
            "text/plain": [
              "<sklearn.metrics._plot.confusion_matrix.ConfusionMatrixDisplay at 0x7fc4075677c0>"
            ]
          },
          "metadata": {},
          "execution_count": 66
        },
        {
          "output_type": "display_data",
          "data": {
            "text/plain": [
              "<Figure size 640x480 with 2 Axes>"
            ],
            "image/png": "[encoded data removed]"
          },
          "metadata": {}
        }
      ]
    },
    {
      "cell_type": "code",
      "source": [
        "precision = 1575/(1575+6)\n",
        "print(precision)\n",
        "recall = 1575/(1575+31)\n",
        "print(recall)"
      ],
      "metadata": {
        "colab": {
          "base_uri": "https://localhost:8080/"
        },
        "id": "b9Vy255jR-cw",
        "outputId": "2fc31b34-a6d4-4312-d49d-ad468cf1b64e"
      },
      "execution_count": null,
      "outputs": [
        {
          "output_type": "stream",
          "name": "stdout",
          "text": [
            "0.9962049335863378\n",
            "0.9806973848069739\n"
          ]
        }
      ]
    }
  ]
}